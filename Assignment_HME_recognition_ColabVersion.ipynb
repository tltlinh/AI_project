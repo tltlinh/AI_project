{
  "metadata": {
    "kernelspec": {
      "name": "python3",
      "display_name": "Python 3",
      "language": "python"
    },
    "language_info": {
      "name": "python",
      "version": "3.11.11",
      "mimetype": "text/x-python",
      "codemirror_mode": {
        "name": "ipython",
        "version": 3
      },
      "pygments_lexer": "ipython3",
      "nbconvert_exporter": "python",
      "file_extension": ".py"
    },
    "kaggle": {
      "accelerator": "none",
      "dataSources": [
        {
          "sourceId": 8596073,
          "sourceType": "datasetVersion",
          "datasetId": 5142469
        }
      ],
      "dockerImageVersionId": 31012,
      "isInternetEnabled": true,
      "language": "python",
      "sourceType": "notebook",
      "isGpuEnabled": false
    },
    "colab": {
      "provenance": [],
      "include_colab_link": true
    }
  },
  "nbformat_minor": 0,
  "nbformat": 4,
  "cells": [
    {
      "cell_type": "markdown",
      "metadata": {
        "id": "view-in-github",
        "colab_type": "text"
      },
      "source": [
        "<a href=\"https://colab.research.google.com/github/tltlinh/AI_project/blob/main/Assignment_HME_recognition_ColabVersion.ipynb\" target=\"_parent\"><img src=\"https://colab.research.google.com/assets/colab-badge.svg\" alt=\"Open In Colab\"/></a>"
      ]
    },
    {
      "source": [
        "# IMPORTANT: RUN THIS CELL IN ORDER TO IMPORT YOUR KAGGLE DATA SOURCES,\n",
        "# THEN FEEL FREE TO DELETE THIS CELL.\n",
        "# NOTE: THIS NOTEBOOK ENVIRONMENT DIFFERS FROM KAGGLE'S PYTHON\n",
        "# ENVIRONMENT SO THERE MAY BE MISSING LIBRARIES USED BY YOUR\n",
        "# NOTEBOOK.\n",
        "import kagglehub\n",
        "ntcuong2103_crohme2019_path = kagglehub.dataset_download('ntcuong2103/crohme2019')\n",
        "\n",
        "print('Data source import complete.')\n"
      ],
      "metadata": {
        "id": "2KGe_J0_GomF",
        "colab": {
          "base_uri": "https://localhost:8080/"
        },
        "outputId": "acc1c209-c75f-4e61-bea8-fafa1269ffc0"
      },
      "cell_type": "code",
      "outputs": [
        {
          "output_type": "stream",
          "name": "stdout",
          "text": [
            "Data source import complete.\n"
          ]
        }
      ],
      "execution_count": null
    },
    {
      "cell_type": "code",
      "source": [
        "# If it is failed, run the above cell again to fix\n",
        "assert ntcuong2103_crohme2019_path == \"/kaggle/input/crohme2019\"\n"
      ],
      "metadata": {
        "id": "6_aX0FAXHAjT"
      },
      "execution_count": null,
      "outputs": []
    },
    {
      "cell_type": "markdown",
      "source": [
        "## **CROHME Temporal Sequence Classification (CROHME-CTC) Baseline**"
      ],
      "metadata": {
        "id": "DEm0-zzfGomG"
      }
    },
    {
      "cell_type": "markdown",
      "source": [
        "In this project, we will build and train a recurrent neural network (RNN) for translating handwritten mathematical expressions into sequence of symbols and relations based on Symbol Relation Tree and CROHME dataset.\n",
        "\n",
        "The model we'll be using is a simple RNN with a single layer of Bidirectional LSTM cells. We will use Connectionist Temporal Classification (CTC) loss to train the model.\n",
        "\n",
        "The model is trained on the CROHME dataset, which contains handwritten mathematical expressions in the form of Symbol Relation Trees. The dataset is preprocessed and converted into a sequence of symbols and relations, which is used as the input to the model.\n",
        "\n",
        "Your job is to feature engineer the input data and train the model to achieve the best performance possible. Additionally, consider implementing data augmentation techniques to enhance the training dataset."
      ],
      "metadata": {
        "id": "m_BtWPW5GomG"
      }
    },
    {
      "cell_type": "markdown",
      "source": [
        "Some features from the project:\n",
        "\n",
        "*   Public competition dataset: CROHME https://paperswithcode.com/dataset/crohme-2019\n",
        "*   Advance data preparation: time series feature extraction, collate function\n",
        "*   High level API of pytorch lightning\n",
        "*   Experiment tracking with Weight and Biases\n",
        "\n"
      ],
      "metadata": {
        "id": "neUWD9FsW3iU"
      }
    },
    {
      "cell_type": "markdown",
      "source": [
        "## Dependencies"
      ],
      "metadata": {
        "id": "UjJVUXAGGomH"
      }
    },
    {
      "cell_type": "code",
      "source": [
        "!pip install pytorch-lightning torchmetrics wandb"
      ],
      "metadata": {
        "id": "f38o_eYpHTDP"
      },
      "execution_count": null,
      "outputs": []
    },
    {
      "cell_type": "code",
      "source": [
        "import torch\n",
        "import torch.nn as nn\n",
        "import torch.nn.functional as F\n",
        "import torch.optim as optim\n",
        "from torch.utils.data import DataLoader, Dataset\n",
        "from torchmetrics.text import EditDistance\n",
        "\n",
        "import numpy as np\n",
        "import pandas as pd\n",
        "import os\n",
        "\n",
        "import pytorch_lightning as pl\n",
        "from pytorch_lightning import Trainer\n",
        "from pytorch_lightning.callbacks import ModelCheckpoint, LearningRateMonitor\n",
        "from pytorch_lightning.loggers import TensorBoardLogger, WandbLogger\n",
        "import wandb\n",
        "\n",
        "import xml.etree.ElementTree as ET\n",
        "from torch.nn.utils.rnn import pad_sequence\n",
        "\n",
        "import matplotlib.pyplot as plt\n",
        "from helper import *\n",
        "from collections.abc import Sequence\n",
        "from typing import Literal, Optional, Union\n",
        "\n",
        "import json"
      ],
      "metadata": {
        "trusted": true,
        "execution": {
          "iopub.status.busy": "2025-05-20T00:25:54.116606Z",
          "iopub.execute_input": "2025-05-20T00:25:54.116882Z",
          "iopub.status.idle": "2025-05-20T00:25:54.123208Z",
          "shell.execute_reply.started": "2025-05-20T00:25:54.116861Z",
          "shell.execute_reply": "2025-05-20T00:25:54.122454Z"
        },
        "id": "vrzqHX_hGomH"
      },
      "outputs": [],
      "execution_count": null
    },
    {
      "cell_type": "code",
      "source": [
        "# mount crohme2019 -> dataset\n",
        "!ln -s /kaggle/input/crohme2019 dataset"
      ],
      "metadata": {
        "trusted": true,
        "execution": {
          "iopub.status.busy": "2025-05-20T00:25:59.086626Z",
          "iopub.execute_input": "2025-05-20T00:25:59.086956Z",
          "iopub.status.idle": "2025-05-20T00:25:59.238737Z",
          "shell.execute_reply.started": "2025-05-20T00:25:59.08693Z",
          "shell.execute_reply": "2025-05-20T00:25:59.23784Z"
        },
        "id": "yUw3NzxEGomH"
      },
      "outputs": [],
      "execution_count": null
    },
    {
      "cell_type": "markdown",
      "source": [
        "> The above command created a symbolic link\n",
        "> dataset -> /kaggle/input/crohme2019\n",
        ">\n",
        "> We can now access the dataset from current directory instead of /kaggle/input"
      ],
      "metadata": {
        "id": "iwS9-TZBGomH"
      }
    },
    {
      "cell_type": "code",
      "source": [
        "# This code for displaying current directory tree, you don't need to run.\n",
        "\n",
        "!sudo apt-get install tree\n",
        "!tree -L 3 dataset"
      ],
      "metadata": {
        "trusted": true,
        "execution": {
          "iopub.status.busy": "2025-05-20T00:26:10.627244Z",
          "iopub.execute_input": "2025-05-20T00:26:10.627511Z",
          "iopub.status.idle": "2025-05-20T00:26:10.772621Z",
          "shell.execute_reply.started": "2025-05-20T00:26:10.627492Z",
          "shell.execute_reply": "2025-05-20T00:26:10.771799Z"
        },
        "id": "OZVH3nONGomH"
      },
      "outputs": [],
      "execution_count": null
    },
    {
      "cell_type": "code",
      "source": [
        "paths = [\n",
        "    \"dataset/crohme2019_train.txt\",\n",
        "    \"dataset/crohme2019_test.txt\",\n",
        "    \"dataset/crohme2019_valid.txt\",\n",
        "]"
      ],
      "metadata": {
        "trusted": true,
        "execution": {
          "iopub.status.busy": "2025-05-20T00:06:29.890425Z",
          "iopub.execute_input": "2025-05-20T00:06:29.890726Z",
          "iopub.status.idle": "2025-05-20T00:06:29.89489Z",
          "shell.execute_reply.started": "2025-05-20T00:06:29.890669Z",
          "shell.execute_reply": "2025-05-20T00:06:29.894151Z"
        },
        "id": "VERbG7yYGomH"
      },
      "outputs": [],
      "execution_count": null
    },
    {
      "cell_type": "markdown",
      "source": [
        "## Task 1: Build Vocabulary\n",
        "\n",
        "Builds and manages a vocabulary for converting characters (tokens) to indices (encoding) and vice-versa (decoding). This is essential for processing text data in machine learning tasks, particularly for sequence-to-sequence models like those used in handwriting recognition or mathematical expression translation.\n",
        "\n",
        "In this project, the vocabulary is for encoding the target sequence (for example: \"- Right \\\\sqrt Inside 2\") into a sequence of indices ([5, 37, 74, 30, 10]). It is constructed from multiple annotation files (train, test, and validation sets) and includes a special blank character (this is for CTC loss). It supports encoding (tokens to indices) and decoding (indices to tokens) operations.\n",
        "\n",
        "\n",
        "> _You will need to build the `class Vocab` using the two functions provided. Also the vocabulary should be exported as a JSON file so that we can reuse it later in the dataset._\n",
        "\n",
        "***Input***: the path to the dataset files _(train, valid, and test)_.\n",
        "\n",
        "\n",
        "```python\n",
        "paths = [\n",
        "    \"dataset/crohme2019_train.txt\",\n",
        "    \"dataset/crohme2019_test.txt\",\n",
        "    \"dataset/crohme2019_valid.txt\",\n",
        "]\n",
        "```\n",
        "\n",
        "***Output***: the vocabulary.\n",
        "\n",
        "```python\n",
        "vocab = {\n",
        "    \"a\": 0,\n",
        "    \"b\": 1,\n",
        "    \"c\": 2,\n",
        "    ...\n",
        "}\n",
        "```"
      ],
      "metadata": {
        "id": "ZGmVmcPDGomI"
      }
    },
    {
      "cell_type": "code",
      "source": [
        "df = pd.read_csv(paths[1], sep=\"\\t\", header=None, names=[\"path\", \"label\"]).dropna().astype(str)"
      ],
      "metadata": {
        "vscode": {
          "languageId": "powershell"
        },
        "trusted": true,
        "id": "NVdsl2TqGomI"
      },
      "outputs": [],
      "execution_count": null
    },
    {
      "cell_type": "code",
      "source": [
        "df.head()"
      ],
      "metadata": {
        "vscode": {
          "languageId": "powershell"
        },
        "trusted": true,
        "id": "lbArYtbHGomI"
      },
      "outputs": [],
      "execution_count": null
    },
    {
      "cell_type": "code",
      "source": [
        "def get_unique_chars(paths) -> set:\n",
        "    res = set()\n",
        "    for i in df['label'].apply(lambda x: x.strip().split()):\n",
        "        res.update(i)\n",
        "    return res\n",
        "\n",
        "len(get_unique_chars(paths[0]))"
      ],
      "metadata": {
        "trusted": true,
        "id": "W5WhCEyuGomI"
      },
      "outputs": [],
      "execution_count": null
    },
    {
      "cell_type": "code",
      "source": [
        "unique_chars = get_unique_chars(paths[0])\n",
        "unique_chars"
      ],
      "metadata": {
        "trusted": true,
        "id": "AODbcsNyGomI"
      },
      "outputs": [],
      "execution_count": null
    },
    {
      "cell_type": "markdown",
      "source": [
        "The vocabulary should be sorted by ascii table. The first character (index 0) must be blank (`''`)."
      ],
      "metadata": {
        "id": "9NoRw8ZUGomI"
      }
    },
    {
      "cell_type": "code",
      "source": [
        "def chr2idx(unique_chars: set) -> dict:\n",
        "    unique_chars.add('')\n",
        "    return {char: idx for idx, char in enumerate(sorted(unique_chars))}\n",
        "\n",
        "vocab = chr2idx(get_unique_chars(paths[0]))\n",
        "\n",
        "assert vocab[\"\"] == 0\n",
        "assert vocab[\"|\"] == 108\n",
        "assert vocab[\"\\\\pi\"] == 68\n",
        "assert vocab[\"\\\\exists\"] == 51\n",
        "assert len(vocab) == 109"
      ],
      "metadata": {
        "trusted": true,
        "id": "MSVwOtmpGomI"
      },
      "outputs": [],
      "execution_count": null
    },
    {
      "cell_type": "code",
      "source": [
        "class Vocab:\n",
        "    \"\"\"\n",
        "\n",
        "    Attributes:\n",
        "        paths (list): A list of file paths to the annotation files.\n",
        "        char2idx (dict): A dictionary mapping characters to their corresponding indices.  This is the primary vocabulary.\n",
        "        idx2char (dict): A reverse mapping from indices to characters, facilitating decoding.\n",
        "\n",
        "    Methods:\n",
        "        build_vocab(): Builds the vocabulary from the specified annotation files, sorting characters lexicographically and adding a blank character.\n",
        "        get_vocab(): Returns the character-to-index vocabulary.\n",
        "        save_vocab(path): Saves the vocabulary to a JSON file.\n",
        "        encode(tokens): Converts a list of tokens (characters) into a list of their corresponding indices.\n",
        "        decode(ids): Converts a list of indices back into a list of tokens (characters).\n",
        "    \"\"\"\n",
        "    def __init__(self, vocab_file=None):\n",
        "        self.char2idx = {}\n",
        "        if vocab_file is not None:\n",
        "            self.char2idx = json.load(open(vocab_file))\n",
        "        self.idx2char = {v: k for k, v in self.char2idx.items()}\n",
        "\n",
        "    def build_vocab(self, annotations) -> None:\n",
        "        # TODO: build vocab from all annotation files\n",
        "        vocab = {}\n",
        "\n",
        "        # assign vocab to the class\n",
        "        self.char2idx = vocab\n",
        "\n",
        "    def get_vocab(self) -> dict:  # getter\n",
        "        return self.char2idx\n",
        "\n",
        "    def save_vocab(self, path: str) -> None:  # save vocab to json file\n",
        "        with open(path, 'w') as f:\n",
        "            json.dump(self.char2idx, f)\n",
        "\n",
        "    def encode(self, tokens):\n",
        "        return [self.char2idx[token] for token in tokens]\n",
        "\n",
        "    def decode(self, ids):\n",
        "        return [self.idx2char[id] for id in ids]\n"
      ],
      "metadata": {
        "trusted": true,
        "id": "omyRuj9FGomJ"
      },
      "outputs": [],
      "execution_count": null
    },
    {
      "cell_type": "code",
      "source": [
        "# CHECKPOINT: build vocab from annotations\n",
        "annotations = [\n",
        "    \"dataset/crohme2019_train.txt\",\n",
        "    \"dataset/crohme2019_test.txt\",\n",
        "    \"dataset/crohme2019_valid.txt\",\n",
        "]\n",
        "\n",
        "vocab = Vocab()\n",
        "vocab.build_vocab(annotations)\n",
        "vocab.save_vocab('vocab.json')"
      ],
      "metadata": {
        "trusted": true,
        "id": "_LyrowJQGomJ"
      },
      "outputs": [],
      "execution_count": null
    },
    {
      "cell_type": "code",
      "source": [
        "# TEST: vocab class loaded from prebuilt JSON\n",
        "vocab = Vocab('vocab.json')\n",
        "\n",
        "# encoding a sequence\n",
        "input = '- Right \\\\sqrt Inside 2'.split()\n",
        "\n",
        "assert vocab.encode(input) == [5, 37, 74, 30, 10]\n",
        "assert vocab.decode(vocab.encode(input)) == input"
      ],
      "metadata": {
        "trusted": true,
        "id": "2TIxQUHWGomJ"
      },
      "outputs": [],
      "execution_count": null
    },
    {
      "cell_type": "markdown",
      "source": [
        "## Task 2: Build Dataset\n",
        "\n",
        "In this task, we will build a dataset class that will be used to load the dataset files _(train, valid, and test)_.\n",
        "\n",
        "The dataset class will also be used to preprocess the data by converting the characters in the data to integers using the vocabulary.\n",
        "\n",
        "> _Before going to this task, it is **highly recommended** to read this [Tutorial on creating Custom Dataset](https://pytorch.org/tutorials/beginner/basics/data_tutorial.html#creating-a-custom-dataset-for-your-files) with PyTorch._\n",
        ">\n",
        "> _You should have basic understanding of required methods in the Dataset class such as `__init__`, `__len__`, and `__getitem__`._\n",
        "\n",
        "\n",
        "***Input***: Dataset class should take the following arguments:.\n",
        "\n",
        "- `annotation`: the path to the dataset annotation *(`.txt`)*.\n",
        "- `root_dir`: the root directory of the dataset file.\n",
        "- `vocab`: the vocabulary.\n",
        "\n",
        "***Output***: the dataset class.\n",
        "\n",
        "> *Note: You can adjust the Dataset class base on your references.*\n"
      ],
      "metadata": {
        "id": "Uw6QUu6EGomJ"
      }
    },
    {
      "cell_type": "markdown",
      "source": [
        "### Dataflow\n",
        "Below is a typical dataflow to train a model.\n",
        "```mermaid\n",
        "flowchart LR\n",
        "    A[Raw Data] --> |parse| B[Cleaned Data]\n",
        "    B --> |feature engineering| C[Dataset]\n",
        "    C --> |package| D[DataLoader]\n",
        "    D --> |load| E[Model]\n",
        "    E --> |predict| F[Output]\n",
        "    F --> |calculate| G[Loss]\n",
        "    G --> |backpropagate| E\n",
        "```"
      ],
      "metadata": {
        "id": "PomjANK6GomJ"
      }
    },
    {
      "cell_type": "markdown",
      "source": [
        "### Handling Inkml files\n",
        "\n",
        "We have an inkml file: `crohme2019/test/UN19_1041_em_597.inkml`\n",
        "\n",
        "Its label is `- Right \\sqrt Inside 2`\n",
        "\n",
        "Target would be: `[5, 37, 74, 30, 10]`, where the index here is the index of tokens (from a vocabulary)\n",
        "\n",
        "We provided you with class `Inkml` to handle the parsing and processing of the inkml files. The main method you will use is `getTraces()` which returns the traces of the inkml file.\n",
        "\n",
        "> _Inspect this class and understand how you should be working with this type of data._\n",
        "\n",
        "```python"
      ],
      "metadata": {
        "id": "r9zozRQ8GomJ"
      }
    },
    {
      "cell_type": "code",
      "source": [
        "class Segment(object):\n",
        "    \"\"\"Class to reprsent a Segment compound of strokes (id) with an id and label.\"\"\"\n",
        "\n",
        "    __slots__ = (\"id\", \"label\", \"strId\")\n",
        "\n",
        "    def __init__(self, *args):\n",
        "        if len(args) == 3:\n",
        "            self.id = args[0]\n",
        "            self.label = args[1]\n",
        "            self.strId = args[2]\n",
        "        else:\n",
        "            self.id = \"none\"\n",
        "            self.label = \"\"\n",
        "            self.strId = set([])\n",
        "\n",
        "\n",
        "class Inkml(object):\n",
        "    \"\"\"Class to represent an INKML file with strokes, segmentation and labels\"\"\"\n",
        "\n",
        "    __slots__ = (\"fileName\", \"strokes\", \"strkOrder\", \"segments\", \"truth\", \"UI\")\n",
        "\n",
        "    NS = {\n",
        "        \"ns\": \"http://www.w3.org/2003/InkML\",\n",
        "        \"xml\": \"http://www.w3.org/XML/1998/namespace\",\n",
        "    }\n",
        "\n",
        "    def __init__(self, *args):\n",
        "        self.fileName = None\n",
        "        self.strokes = {}\n",
        "        self.strkOrder = []\n",
        "        self.segments = {}\n",
        "        self.truth = \"\"\n",
        "        self.UI = \"\"\n",
        "        if len(args) == 1:\n",
        "            self.fileName = args[0]\n",
        "            self.loadFromFile()\n",
        "\n",
        "    def fixNS(self, ns, att):\n",
        "        \"\"\"Build the right tag or element name with namespace\"\"\"\n",
        "        return \"{\" + Inkml.NS[ns] + \"}\" + att\n",
        "\n",
        "    def loadFromFile(self):\n",
        "        \"\"\"load the ink from an inkml file (strokes, segments, labels)\"\"\"\n",
        "        tree = ET.parse(self.fileName)\n",
        "        # # ET.register_namespace();\n",
        "        root = tree.getroot()\n",
        "        for info in root.findall(\"ns:annotation\", namespaces=Inkml.NS):\n",
        "            if \"type\" in info.attrib:\n",
        "                if info.attrib[\"type\"] == \"truth\":\n",
        "                    self.truth = info.text.strip()\n",
        "                if info.attrib[\"type\"] == \"UI\":\n",
        "                    self.UI = info.text.strip()\n",
        "        for strk in root.findall(\"ns:trace\", namespaces=Inkml.NS):\n",
        "            self.strokes[strk.attrib[\"id\"]] = strk.text.strip()\n",
        "            self.strkOrder.append(strk.attrib[\"id\"])\n",
        "        segments = root.find(\"ns:traceGroup\", namespaces=Inkml.NS)\n",
        "        if segments is None or len(segments) == 0:\n",
        "            return\n",
        "        for seg in segments.iterfind(\"ns:traceGroup\", namespaces=Inkml.NS):\n",
        "            id = seg.attrib[self.fixNS(\"xml\", \"id\")]\n",
        "            label = seg.find(\"ns:annotation\", namespaces=Inkml.NS).text\n",
        "            strkList = set([])\n",
        "            for t in seg.findall(\"ns:traceView\", namespaces=Inkml.NS):\n",
        "                strkList.add(t.attrib[\"traceDataRef\"])\n",
        "            self.segments[id] = Segment(id, label, strkList)\n",
        "\n",
        "    def getTraces(self, height=256):\n",
        "        traces_array = [\n",
        "            np.array(\n",
        "                [p.strip().split() for p in self.strokes[id].split(\",\")], dtype=\"float\"\n",
        "            )\n",
        "            for id in self.strkOrder\n",
        "        ]\n",
        "\n",
        "        ratio = height / (\n",
        "            (\n",
        "                np.concatenate(traces_array, 0).max(0)\n",
        "                - np.concatenate(traces_array, 0).min(0)\n",
        "            )[1]\n",
        "            + 1e-6\n",
        "        )\n",
        "        return [(trace * ratio).astype(int).tolist() for trace in traces_array]\n",
        "\n",
        "    def view(self):\n",
        "        plt.figure(figsize = (16, 4))\n",
        "        plt.axis(\"off\")\n",
        "        for trace in self.getTraces():\n",
        "            trace_arr = np.array(trace)\n",
        "            plt.plot(trace_arr[:, 0], -trace_arr[:, 1])  # invert y coordinate"
      ],
      "metadata": {
        "trusted": true,
        "id": "hkOSwWi0GomJ"
      },
      "outputs": [],
      "execution_count": null
    },
    {
      "cell_type": "code",
      "source": [
        "inkml_path = 'dataset/crohme2019/crohme2019/test/ISICal19_1201_em_758.inkml'\n",
        "ink = Inkml(inkml_path)\n",
        "ink.view()"
      ],
      "metadata": {
        "trusted": true,
        "id": "c3ofnZJ7GomJ"
      },
      "outputs": [],
      "execution_count": null
    },
    {
      "cell_type": "code",
      "source": [
        "# Display shapes of first 5 traces in one file\n",
        "\n",
        "[np.array(trace).shape for trace in ink.getTraces()][:5]"
      ],
      "metadata": {
        "trusted": true,
        "id": "_EsBxMv1GomJ"
      },
      "outputs": [],
      "execution_count": null
    },
    {
      "cell_type": "markdown",
      "source": [
        "> **REMARK**: _Some Inkml may return (x, y, t) coordinates, while most of them return (x, y) coordinates. Make sure to handle this inconsistency in your implementation._"
      ],
      "metadata": {
        "id": "52ybjkd4GomJ"
      }
    },
    {
      "cell_type": "markdown",
      "source": [
        "### Build Dataset\n",
        "\n",
        "For calculating the Connectionist Temporal Classification (CTC) loss, read the [expected output](https://pytorch.org/docs/stable/generated/torch.nn.CTCLoss.html) of this loss function from PyTorch.\n",
        "\n",
        "> _Hint: focus on the shapes and the expected variables. (see code example for calculating loss)_\n",
        "> ```python\n",
        "> loss = ctc_loss(input_tensor, target_tensor, input_lengths, target_lengths)\n",
        "> ```\n",
        "\n",
        "**Base on the observation, how can we build a dataset class from the dataset files?**\n",
        "\n",
        "> Hints:\n",
        ">   - *Understand the big picture. (Dataflow)*\n",
        ">   - *What informations needed to calculate our Loss?*\n",
        ">   - *What should be returned in the `__getitem__` method?*\n",
        ">   - *The outputs should be of Tensor type*\n",
        "   \n",
        "***References from pytorch [tutorials](https://pytorch.org/tutorials/beginner/data_loading_tutorial.html)***\n",
        "\n",
        "`torch.utils.data.Dataset` is an abstract class representing a dataset. Your custom dataset should inherit `Dataset` and override the following methods:\n",
        "\n",
        "- `__len__` so that `len(dataset)` returns the size of the dataset.\n",
        "\n",
        "- `__getitem__` to support the indexing such that `dataset[i]` can be used to get ith sample.\n"
      ],
      "metadata": {
        "id": "G9dQJ7TTGomJ"
      }
    },
    {
      "cell_type": "markdown",
      "source": [
        "### Feature representation\n",
        "\n",
        "In this task, we will convert the strokes into feature representations that can be used by the model.\n",
        "\n",
        "Initially, the `.getTraces()` method returns list of strokes, where each stroke is a list of (x, y) coordinates. Intuitively, we can use those coordinates as features. But if directly using the coordinates as features, the model will have a hard time learning the patterns.\n",
        "\n",
        "Instead, we can calculate the difference *(∆d)* between consecutive coordinates as features. This way, the model can learn the patterns more easily.\n",
        "\n",
        "$\\Delta_x = x_{i+1} - x_i$ and $\\Delta_y = y_{i+1} - y_i$\n",
        "\n",
        "The feature would then be normalized as\n",
        "\n",
        "($\\frac{\\Delta_x}{d}$ , $\\frac{\\Delta_y} {d}$), where $d = \\sqrt{\\Delta_x^2 + \\Delta_y^2}$\n",
        "\n",
        "**Pen-up and Pen-down**\n",
        "\n",
        "In the dataset, each stroke is separated by a pen-up event. We can use this information to separate the strokes.\n",
        "\n",
        "1. The pen is lifted from the paper (connecting the end of a stroke to the start of a stroke): $pen\\_up = 1$\n",
        "2. The pen is on the paper: $pen\\_up = 0$\n",
        "\n",
        "Then, our feature representation would be:\n",
        "($\\frac{\\Delta_x}{d}$ , $\\frac{\\Delta_y} {d}$, $d$, $pen\\_up$)\n",
        "\n",
        "\n",
        "```\n",
        "point 1: (x1, y1)\n",
        "point 2: (x2, y2)\n",
        "point 3: (x3, y3) <--- end of stroke #1\n",
        "point 4: (x4, y4) <--- start of stroke #2\n",
        "...\n",
        "point n: (xn, yn)\n",
        "```\n",
        "\n",
        "The feature representation will be:\n",
        "\n",
        "```\n",
        "f1 = ((x2 - x1) / d, (y2 - y1)/d, d, 0)\n",
        "f2 = ((x3 - x2) / d, (y3 - y2)/d, d, 0)\n",
        "f3 = ((x4 - x3) / d, (y4 - y3)/d, d, 1) <-- pen up\n",
        "...\n",
        "fn-1 = ((xn - xn-1) / d, (yn - yn-1)/d, d, 0)\n",
        "```"
      ],
      "metadata": {
        "id": "3ugfZokVGomK"
      }
    },
    {
      "cell_type": "markdown",
      "source": [
        "#### **CHECK LIST**\n",
        "\n",
        "For each data sample, we will do the following steps\n",
        "- Combine all the strokes into a single stroke (N, 2)\n",
        "- Compute first order differences of x and y coordinates\n",
        "- Remove any zero length strokes\n",
        "- Compute Euclidean distances between consecutive points\n",
        "- Normalize the x and y coordinates by Euclidean distance\n",
        "- Add feature pen-up/pen-down\n",
        "> *Features of transformed data: (delta traces, distance, pen_up_down)*\n",
        "\n",
        "Label\n",
        "- Define label (list of indices of the words)\n",
        "\n",
        "Finally, we will convert the data and label to PyTorch tensors.\n",
        "- Convert data and label to PyTorch tensors"
      ],
      "metadata": {
        "id": "_LJH9zHvGomK"
      }
    },
    {
      "cell_type": "code",
      "source": [
        "class InkmlDataset(Dataset):\n",
        "    def __init__(self, annotation, root_dir, vocab):\n",
        "        \"\"\"\n",
        "        Arguments:\n",
        "            annotation (string): annotation file txt.\n",
        "            root_dir (string): directory holds the dataset.\n",
        "            vocab (set): of vocab.\n",
        "        \"\"\"\n",
        "        self.annotation = annotation\n",
        "        self.root_dir = root_dir\n",
        "        self.vocab = vocab\n",
        "\n",
        "        # load annotations\n",
        "        self.inks = []\n",
        "        self.labels = []\n",
        "\n",
        "        # your code for create self.inks and self.labels from the annotation file\n",
        "\n",
        "    def __len__(self):\n",
        "        \"\"\"This code should return the number of samples in the dataset\"\"\"\n",
        "        return len(self.labels)\n",
        "\n",
        "    def __getitem__(self, idx):\n",
        "        \"\"\"This code should return the idx-th sample in the dataset\"\"\"\n",
        "\n",
        "        ink = self.inks[idx]\n",
        "        label = self.labels[idx]\n",
        "\n",
        "        # TODO: feature engineering and return the correct data.\n",
        "\n",
        "        return input_tensor, target_tensor, input_len, label_len"
      ],
      "metadata": {
        "trusted": true,
        "id": "Lyx5HT98GomK"
      },
      "outputs": [],
      "execution_count": null
    },
    {
      "cell_type": "markdown",
      "source": [
        "## Task 3: Build Lightning Data Module via Dataloader\n",
        "\n",
        "Revise [this tutorial](https://pytorch.org/tutorials/beginner/basics/data_tutorial.html#preparing-your-data-for-training-with-dataloaders) to see how you can prepare your data for training with DataLoader.\n",
        "\n",
        "Then refer to this [documentation](https://pytorch.org/docs/stable/data.html#loading-batched-and-non-batched-data) to understand how DataLoader in PyTorch loads Batched or Non-Batched data.\n",
        "\n",
        "> **TASK:** Write the dataloader with custom collate function to pad the input and target sequence\n",
        "\n",
        "For a better understanding of the importance of handling variable-length sequences in deep learning models, it is crucial to format and pad the data appropriately to ensure consistency during training. Learn more about this topic [here](https://plainenglish.io/blog/understanding-collate-fn-in-pytorch-f9d1742647d3).\n",
        "\n",
        "> _**Hint 1**: use `torch.nn.utils.rnn.pad_sequence` to pad the input and target sequences. Read more about this function [here](https://pytorch.org/docs/stable/generated/torch.nn.utils.rnn.pad_sequence.html)._\n",
        "\n",
        "> _**Hint 2**: read Example 3 from this [tutorial](https://www.programiz.com/python-programming/methods/built-in/zip) to unpack data using `zip()`._"
      ],
      "metadata": {
        "id": "O3GGK6yRGomK"
      }
    },
    {
      "cell_type": "code",
      "source": [
        "def collate_fn(batch):\n",
        "    \"\"\"Create batch\"\"\"\n",
        "    # TODO: your custom colate function here\n",
        "\n",
        "    # features, labels, input_lens, label_lens should be torch.tensor\n",
        "    return features, labels, input_lens, label_lens"
      ],
      "metadata": {
        "trusted": true,
        "id": "MsUUX0j0GomK"
      },
      "outputs": [],
      "execution_count": null
    },
    {
      "cell_type": "code",
      "source": [
        "dataset = InkmlDataset(...)  # TODO: initialize a dataset\n",
        "features, labels, input_lens, label_lens = collate_fn([dataset[0], dataset[1]])\n",
        "\n",
        "import numpy.testing as npt\n",
        "\n",
        "assert type(input_lens) == torch.Tensor\n",
        "assert type(label_lens) == torch.Tensor"
      ],
      "metadata": {
        "trusted": true,
        "id": "Z-eUDB9mGomK"
      },
      "outputs": [],
      "execution_count": null
    },
    {
      "cell_type": "markdown",
      "source": [
        "> **TASK:** implement InkmlDataset_PL Lightning Datamodule"
      ],
      "metadata": {
        "id": "HqdtEV0FGomK"
      }
    },
    {
      "cell_type": "code",
      "source": [
        "class InkmlDataset_PL(pl.LightningDataModule):\n",
        "    \"\"\"\n",
        "    PyTorch Lightning data module for handling the INKML dataset.\n",
        "    \"\"\"\n",
        "\n",
        "    def __init__(\n",
        "        self,\n",
        "        batch_size: int = 10,\n",
        "        workers: int = 5,\n",
        "        train_data: str = \"\",\n",
        "        val_data: str = \"\",\n",
        "        test_data: str = \"\",\n",
        "        root_dir: str = \"dataset\"\n",
        "    ):\n",
        "        super().__init__()\n",
        "        self.batch_size = batch_size\n",
        "        self.workers = workers\n",
        "        self.train_data = train_data\n",
        "        self.val_data = val_data\n",
        "        self.test_data = test_data\n",
        "        self.root_dir = root_dir\n",
        "\n",
        "    def setup(self, stage=None):\n",
        "        if stage == \"fit\" or stage is None:\n",
        "            self.train_dataset = InkmlDataset(self.train_data, root_dir=self.root_dir)\n",
        "            self.val_dataset = InkmlDataset(self.val_data, root_dir=self.root_dir)\n",
        "        if stage == \"test\" or stage is None:\n",
        "            self.test_dataset = InkmlDataset(self.test_data, root_dir=self.root_dir)\n",
        "\n",
        "    def custom_collate_fn(self, data):\n",
        "        # TODO: provide your custom collate function here.\n",
        "        return padded_traces, padded_labels, len_traces, len_labels\n",
        "\n",
        "    def train_dataloader(self):\n",
        "        return DataLoader(\n",
        "            self.train_dataset,\n",
        "            batch_size=self.batch_size,\n",
        "            num_workers=self.workers,\n",
        "            collate_fn=self.custom_collate_fn,\n",
        "        )\n",
        "\n",
        "    def val_dataloader(self):\n",
        "        return DataLoader(\n",
        "            self.val_dataset,\n",
        "            batch_size=self.batch_size,\n",
        "            num_workers=self.workers,\n",
        "            collate_fn=self.custom_collate_fn,\n",
        "        )\n",
        "\n",
        "    def test_dataloader(self):\n",
        "        return DataLoader(\n",
        "            self.test_dataset,\n",
        "            batch_size=self.batch_size,\n",
        "            num_workers=self.workers,\n",
        "            collate_fn=self.custom_collate_fn,\n",
        "        )"
      ],
      "metadata": {
        "trusted": true,
        "id": "7lVgTU25GomK"
      },
      "outputs": [],
      "execution_count": null
    },
    {
      "cell_type": "markdown",
      "source": [
        "## Task 4: Build Model\n",
        "\n",
        "In this task, we will build a model that will be used to train the dataset.\n",
        "The model will be a simple RNN with a single layer of Bidirectional LSTM cells. The model will take the input from the dataset and output the predicted sequence of symbols and relations and will use CTC loss to train the model.\n",
        "\n",
        "The model will be built using PyTorch and will use the following architecture\n"
      ],
      "metadata": {
        "id": "JzRl-DlmGomL"
      }
    },
    {
      "cell_type": "markdown",
      "source": [
        "> _We highly recommend you to read through this [tutorial on Creating a model using Pytorch](https://pytorch.org/tutorials/beginner/introyt/modelsyt_tutorial.html) and understand the basic building blocks of a model in PyTorch._"
      ],
      "metadata": {
        "id": "bb_9WrCkGomL"
      }
    },
    {
      "cell_type": "markdown",
      "source": [
        "> _**ATTENTION** Below is the architecture for the model. You must **STRICTLY** follow the architecture and the parameters mentioned below._\n",
        "> | Layer Type         | Configuration                              |\n",
        "> |--------------------|--------------------------------------------|\n",
        "> | Input              | Sequence of vectors with `input_size=4`    |\n",
        "> | LSTM Layer         | `hidden_size=256`, `num_layers=2`          |\n",
        "> |                    | `batch_first=True`                         |\n",
        "> |                    | `bidirectional=True`                       |\n",
        "> | LSTM Output        | Output shape: `(batch_size, seq_len, hidden_size*2)`|\n",
        "> | Fully Connected    | `Linear(hidden_size*2, num_classes)`|\n",
        "> | Activation         | `LogSoftmax(dim=...)`|\n",
        "> | Output             | `(batch_size, seq_len, num_classes)`|\n"
      ],
      "metadata": {
        "id": "9SIq1MeSGomL"
      }
    },
    {
      "cell_type": "code",
      "source": [
        "class LSTM_TemporalClassification(nn.Module):\n",
        "    def __init__(self, input_size, hidden_size, num_layers, num_classes):\n",
        "        super(LSTM_TemporalClassification, self).__init__()\n",
        "        # TODO: declare layers here\n",
        "\n",
        "    def forward(self, x):\n",
        "        # TODO: write calculation process here\n",
        "        return x"
      ],
      "metadata": {
        "trusted": true,
        "id": "Z24pJPawGomL"
      },
      "outputs": [],
      "execution_count": null
    },
    {
      "cell_type": "code",
      "source": [
        "# Test your implementation\n",
        "# model = LSTM_TemporalClassification(4, 256, 2, 109)\n",
        "# assert model.forward(torch.rand((10, 100, 4))).shape == (10, 100, 109)"
      ],
      "metadata": {
        "trusted": true,
        "id": "sBM9L41uGomP"
      },
      "outputs": [],
      "execution_count": null
    },
    {
      "cell_type": "markdown",
      "source": [
        "## Task 5: Understand CTC Loss\n",
        "\n",
        "In this task, we will understand how to use CTC loss to train the model. The CTC loss is used to train the model to predict the sequence of symbols and relations from the input sequence of features.\n",
        "\n",
        "> _For deeper understanding of CTC loss, read this [blog](https://distill.pub/2017/ctc/)_\n",
        "\n",
        "Check out this [Pytorch documentation](https://pytorch.org/docs/stable/generated/torch.nn.CTCLoss.html) to learn more about its implementation.\n",
        "\n",
        "> _Hint: read the expected input and output of the CTC loss function. The input should be of shape `(T, N, C)` where T is the length of the input sequence, N is the batch size, and C is the number of classes. The target should be of shape `(N, S)` where S is the length of the target sequence._\n",
        "\n",
        "After understanding how CTC Loss works, we can proceed to implement it in our model."
      ],
      "metadata": {
        "id": "e6V0E9xSGomP"
      }
    },
    {
      "cell_type": "markdown",
      "source": [
        "## Task 6: Build Lightning Module\n",
        "\n",
        "In this task, we will build a Lightning module that will be used to train the model. The Lightning module will mostly be used to define the training and validation steps, as well as the optimizer and learning rate scheduler.\n",
        "\n",
        "> _More on building Lightning module can be found [here](https://lightning.ai/docs/pytorch/stable/common/lightning_module.html). You should read about core methods to know what to implement in your module._"
      ],
      "metadata": {
        "id": "qvim4uxsGomP"
      }
    },
    {
      "cell_type": "code",
      "source": [
        "class MathOnlineModel(pl.LightningModule):\n",
        "    def __init__(\n",
        "        self,\n",
        "        lr=0.001,\n",
        "        input_size=4,\n",
        "        output_size=109,\n",
        "        hidden_size=256,\n",
        "        num_layers=2,\n",
        "        decoder=None,\n",
        "    ):\n",
        "        super().__init__()\n",
        "        self.model = LSTM_TemporalClassification(\n",
        "            input_size, hidden_size, num_layers, output_size\n",
        "        )\n",
        "        self.criterion = # TODO: define CTC Loss Function here.\n",
        "        self.lr = lr\n",
        "        self.decoder = decoder\n",
        "\n",
        "    def forward(self, x):\n",
        "        return self.model(x)\n",
        "\n",
        "    def training_step(self, batch, batch_idx):\n",
        "        x, y, x_lens, y_lens = batch\n",
        "\n",
        "        # TODO: your code to calculate loss\n",
        "\n",
        "        self.log(\"train_loss\", loss, prog_bar=True, on_step=True, on_epoch=True)\n",
        "        return loss\n",
        "\n",
        "    def validation_step(self, batch, batch_idx):\n",
        "        x, y, x_lens, y_lens = batch\n",
        "\n",
        "        # TODO: your code to calculate loss\n",
        "\n",
        "        self.log(\"val_loss\", loss, prog_bar=True, on_step=False, on_epoch=True)\n",
        "        return loss\n",
        "\n",
        "    def test_step(self, batch, batch_idx):\n",
        "        x, y, x_lens, y_lens = batch\n",
        "\n",
        "        # TODO: your code to calculate loss\n",
        "\n",
        "        self.log(\"test_loss\", loss, prog_bar=True, on_step=False, on_epoch=True)\n",
        "        return loss\n",
        "\n",
        "    def configure_optimizers(self):\n",
        "        return torch.optim.Adam(self.model.parameters(), lr=self.lr)"
      ],
      "metadata": {
        "trusted": true,
        "id": "OENCqCIjGomQ"
      },
      "outputs": [],
      "execution_count": null
    },
    {
      "cell_type": "markdown",
      "source": [
        "## Task 7: Train the Model with PyTorch Lightning\n",
        "\n",
        "Read more about Training with PyTorch Lightning [here](https://lightning.ai/docs/pytorch/stable/common/trainer.html) and understand how to use the Trainer class to train the model.\n",
        "\n",
        "From the documentation:\n",
        "\n",
        "> The Lightning Trainer does much more than just “training”. Under the hood, it handles all loop details for you, some examples include:\n",
        "> - Automatically enabling/disabling grads\n",
        "> - Running the training, validation and test dataloaders\n",
        "> - Calling the Callbacks at the appropriate times\n",
        "> - Putting batches and computations on the correct devices"
      ],
      "metadata": {
        "id": "9D8zzyWkGomQ"
      }
    },
    {
      "cell_type": "markdown",
      "source": [
        "> **IMPORTANT**: You must config your WandB logger to log the training and validation metrics. Without this, your work will not be graded."
      ],
      "metadata": {
        "id": "lpBbmYgyGomQ"
      }
    },
    {
      "cell_type": "code",
      "source": [
        "student_id = \"student_id\"  # TODO: replace with your student ID\n",
        "api_key = os.environ.get(\"WANDB_API_KEY\", \"\")  # configure your wandb key here\n",
        "\n",
        "if api_key == \"\":\n",
        "    raise ValueError(\"Please set your wandb key in the code or in the environment variable WANDB_API_KEY\")\n",
        "else:\n",
        "    print(\"WandB API key is set. Proceeding with login...\")\n",
        "\n",
        "wandb.login(key=api_key)"
      ],
      "metadata": {
        "trusted": true,
        "id": "_rA8biO6GomQ"
      },
      "outputs": [],
      "execution_count": null
    },
    {
      "cell_type": "code",
      "source": [
        "wandb_logger = WandbLogger(\n",
        "    entity=\"cuong-nt-vgu-ai-2025\",  # DO NOT CHANGE THIS\n",
        "    project=\"math_online_2025\", # DO NOT CHANGE THIS\n",
        "    name=f\"{student_id}_run_1\",\n",
        "    config={\n",
        "        \"student_id\": student_id,  # DO NOT CHANGE THIS\n",
        "        \"model\": \"LSTM_TemporalClassification\",\n",
        "        # your hyperparameters\n",
        "    }\n",
        "    log_model=True,\n",
        "    save_dir=\"wandb_logs\",\n",
        ")\n",
        "\n",
        "trainer = Trainer(\n",
        "    callbacks = [\n",
        "        LearningRateMonitor(logging_interval='step'),\n",
        "        ModelCheckpoint(filename='{epoch}-{val_loss:.4f}', save_top_k=5, monitor='val_loss', mode='min'),\n",
        "    ],\n",
        "    logger = wandb_logger,\n",
        "    check_val_every_n_epoch=1,\n",
        "    fast_dev_run=False,  # enable for testing model\n",
        "    default_root_dir='checkpoint',\n",
        "    deterministic=False,\n",
        "    max_epochs=20,\n",
        "    log_every_n_steps=50,\n",
        "    devices = \"auto\",\n",
        ")\n",
        "model = MathOnlineModel()\n",
        "# model = MathOnlineModel.load_from_checkpoint('path/to/your_checkpoint.ckpt')\n",
        "\n",
        "dm = InkmlDataset_PL(root_dir='dataset',\n",
        "                       train_annotation='',\n",
        "                       validation_annotation='',\n",
        "                       test_annotation='',\n",
        "                       vocab_file='vocab.json',\n",
        "                       batch_size=32,\n",
        "                      num_workers=4\n",
        "                     )\n",
        "\n",
        "trainer.fit(model, dm)"
      ],
      "metadata": {
        "trusted": true,
        "id": "tAkmrItVGomQ"
      },
      "outputs": [],
      "execution_count": null
    },
    {
      "cell_type": "markdown",
      "source": [
        "**Requirements:**\n",
        "- Validation loss (val_loss < 0.7)\n",
        "\n",
        "**Tips on training:**\n",
        "- Debug with **fast_dev_run**:\n",
        "Before run the training process, it is better to make a quick check of training and validation loop. Set fast_dev_run=True, then run the trainer and check if there is any bug exist.\n",
        "- Training initially with **small batch size**:\n",
        "In practice, training with CTC loss converges slowly for large batch size. To accelerate convergence, training with small batch size first, save model, then, train with large batch size.\n",
        "- Train more epochs by setting:\n",
        "\n",
        "```python\n",
        "trainer = Trainer(\n",
        "    ...\n",
        "    max_epochs=20,\n",
        "    ...\n",
        ")\n",
        "```"
      ],
      "metadata": {
        "id": "afGbzkoIGomQ"
      }
    },
    {
      "cell_type": "markdown",
      "source": [
        "## Task 8: Test your model\n",
        "\n",
        "Run the test set and check the accuracy of your model. The test set is used to evaluate the performance of the model on unseen data."
      ],
      "metadata": {
        "id": "QSITSKLPGomQ"
      }
    },
    {
      "cell_type": "code",
      "source": [
        "trainer = Trainer(\n",
        "    devices=1,\n",
        ")\n",
        "\n",
        "# Load the model from a checkpoint\n",
        "model = MathOnlineModel.load_from_checkpoint(\n",
        "    \"path/to/your_checkpoint.ckpt\",\n",
        ")\n",
        "\n",
        "# Initialize the data module\n",
        "dm = InkmlDataset_PL(\n",
        "    root_dir=\"dataset\",\n",
        "    train_annotation=\"\",\n",
        "    validation_annotation=\"\",\n",
        "    test_annotation=\"\",\n",
        "    vocab_file=\"vocab.json\",\n",
        "    batch_size=32,\n",
        "    num_workers=4,\n",
        ")\n",
        "\n",
        "# Test the model\n",
        "trainer.test(model, datamodule=dm)"
      ],
      "metadata": {
        "trusted": true,
        "id": "3RfWD5ViGomQ"
      },
      "outputs": [],
      "execution_count": null
    },
    {
      "cell_type": "markdown",
      "source": [
        "## Task 9: Inference\n",
        "\n",
        "The output of networks need to process by a decoding step.\n",
        "\n",
        "- Greedy decode: Your task is to implement greedy decoding method. Which converts the output into a string of symbols and relations (same form with labels). Greedy decoder produce the best path by removing consecutive repeated symbols/relations and then remove \\<blank\\>\n",
        "\n",
        "> **TASK**: Implement the greedy decoder for the model output.\n",
        "\n",
        "Based on GreedyCTCDecoder class from this [link](https://pytorch.org/audio/main/tutorials/asr_inference_with_ctc_decoder_tutorial.html#greedy-decoder), write decoding for an output. Your implementation should handle the output of the model and convert it into a string of symbols and relations, ensuring to remove consecutive repeated symbols/relations and the blank token."
      ],
      "metadata": {
        "id": "pm8LQ8zPGomQ"
      }
    },
    {
      "cell_type": "code",
      "source": [
        "class GreedyCTCDecoder(torch.nn.Module):\n",
        "    def __init__(self, vocab):\n",
        "        super().__init__()\n",
        "        self.vocab = vocab\n",
        "        self.blank = vocab.word2index[\"\"]\n",
        "\n",
        "    def forward(self, emission: torch.Tensor) -> list:\n",
        "        \"\"\"Given a sequence emission over labels, get the best path\n",
        "        Args:\n",
        "          emission (Tensor): Logit tensors. Shape `[seq_len, num_label]`.\n",
        "\n",
        "        Returns:\n",
        "          list: The resulting transcript\n",
        "        \"\"\"\n",
        "        # TODO: implement the decoder\n",
        "\n",
        "        return output_seq_list"
      ],
      "metadata": {
        "trusted": true,
        "id": "W_b6FuMoGomQ"
      },
      "outputs": [],
      "execution_count": null
    },
    {
      "cell_type": "markdown",
      "source": [
        "Then you can test the output of your model here"
      ],
      "metadata": {
        "id": "job5znglGomQ"
      }
    },
    {
      "cell_type": "code",
      "source": [
        "model = MathOnlineModel.load_from_checkpoint('path/to/your_checkpoint.ckpt')\n",
        "model.eval()\n",
        "\n",
        "dataset = InkmlDataset()\n",
        "feature, label, input_len, label_len = dataset.__getitem__(0)\n",
        "\n",
        "vocab = ...\n",
        "greedy_decoder = GreedyCTCDecoder(vocab)\n",
        "\n",
        "decoded_output = greedy_decoder.forward(...)\n",
        "\n",
        "# possible output if your training work well\n",
        "# decoded -> ['\\\\phi', 'Right', '(', 'Right', '0', 'Right', '(', 'Right', 'n', 'Right', ')', 'Right', ')']\n"
      ],
      "metadata": {
        "trusted": true,
        "id": "vnGy07ShGomR"
      },
      "outputs": [],
      "execution_count": null
    },
    {
      "cell_type": "markdown",
      "source": [
        "## Task 10: Implement calculation metric for training"
      ],
      "metadata": {
        "id": "x6ps24sSGomR"
      }
    },
    {
      "cell_type": "code",
      "source": [
        "def edit_distance(pred_seq: list, label_seq: list):\n",
        "    # TODO: implement Token Edit distance\n",
        "    return distance\n",
        "\n",
        "\n",
        "# Test your implementation\n",
        "assert (\n",
        "    edit_distance(\n",
        "        [\n",
        "            \"\\\\phi\",\n",
        "            \"Right\",\n",
        "            \"(\",\n",
        "            \"Right\",\n",
        "            \"0\",\n",
        "            \"Right\",\n",
        "            \"(\",\n",
        "            \"Right\",\n",
        "            \"n\",\n",
        "            \"Right\",\n",
        "            \")\",\n",
        "            \"Right\",\n",
        "            \")\",\n",
        "        ],\n",
        "        [\n",
        "            \"\\\\phi\",\n",
        "            \"Right\",\n",
        "            \"(\",\n",
        "            \"Right\",\n",
        "            \"\\\\phi\",\n",
        "            \"Right\",\n",
        "            \"(\",\n",
        "            \"Right\",\n",
        "            \"n\",\n",
        "            \"Right\",\n",
        "            \")\",\n",
        "            \"Right\",\n",
        "            \")\",\n",
        "        ],\n",
        "    )\n",
        "    == 1\n",
        ")"
      ],
      "metadata": {
        "trusted": true,
        "id": "9aJFFU9mGomR"
      },
      "outputs": [],
      "execution_count": null
    },
    {
      "cell_type": "markdown",
      "source": [
        "> **TASK**: Implement word error rate metric (wer) for training,  validation and testing in your model.\n",
        ">\n",
        "> $wer = \\frac{total\\ edit\\ distance (predict\\ sequence,\\ target\\ sequence)}{total\\ target\\ sequence\\ length}$\n"
      ],
      "metadata": {
        "id": "seSAUJUNGomR"
      }
    },
    {
      "cell_type": "markdown",
      "source": [
        "**Steps to process:**\n",
        "\n",
        "- Decode the predicted sequences to obtain the text output.\n",
        "- Calculate the total edit distance between the predicted and target sequences.\n",
        "- Compute the word error rate using the formula provided.\n",
        "- Log the WER metric during training and validation.\n",
        "\n",
        "**Continue to train the model**\n",
        "\n",
        "- Load the latest trained model:\n",
        "\n",
        "```\n",
        "model = MathOnlineModel.load_from_checkpoint('path/to/your/checkpoint.ckpt')\n",
        "```\n",
        "- Change config of ModelCheckPoint to monitor the new metric (val_wer) instead.\n",
        "\n",
        "```\n",
        "        ModelCheckpoint(filename='{epoch}-{val_loss:.4f}', save_top_k=5, monitor='val_loss', mode='min')\n",
        "        \n",
        "      --> ModelCheckpoint(filename='{epoch}-{val_wer:.4f}', save_top_k=5, monitor='val_wer', mode='min'),\n",
        "\n",
        "```\n"
      ],
      "metadata": {
        "id": "lGGm5JufGomR"
      }
    },
    {
      "cell_type": "markdown",
      "source": [
        "## **BONUS TASKS**\n",
        "\n",
        "The following tasks are optional and can be done for extra credit to the final exam.\n",
        "\n",
        "### **Bonus 1**: Add metric to evaluate accuracy of symbols and relations seperately *(+0.5pt)*\n",
        "\n",
        "**Add the metrics: wer for symbols and wer for relations**\n",
        "```\n",
        "self.log('wer_sym',...)\n",
        "self.log('wer_rel',...)\n",
        "```\n",
        "\n",
        "### **Bonus 2**: Modify loss function to constraint the output of relations at the time step of pen-up *(+1pt)*\n",
        "Modify loss function to constrain the output of relations at the timestep of pen-up.\n",
        "\n",
        "The idea: Provide a masked sequence such that the position of pen-up is masked, the additional loss would penaltize all the relations output to the timestep that has been masked.\n",
        "\n",
        "\n",
        "**Loss function to constraint relation output**\n",
        "\n",
        "```\n",
        "pen_down: a masked sequence, where len(pen_down) = len(input_sequence)\n",
        "        and pen_down[t] == 1 (pen down), pen_down[t] == 0 (pen up)\n",
        "p_rel: total probability of relation outputs for every time step t, len(p_rel) = len(input_sequence), p_rel[t] = sum(p[t][rel] for rel in ['Sub', 'Sup', 'Above', ...])\n",
        "\n",
        "The loss is defined as:\n",
        "\n",
        "    L_{constraint} = -log(1 - sum(p_rel * pen_down))\n",
        "    \n",
        "Explanation:\n",
        "\n",
        "    Minimize L_{constraint} (value range of (-inf, 0)) would make maximize of (1 - sum(p_rel * pen_down)), or making sum(p_rel * mask) -> 0, then it will penalize the relation output on pen_down timesteps.\n",
        "```\n",
        "\n",
        "**Apply constraint loss function with ctc loss**\n",
        "\n",
        "```\n",
        "    L = loss_{ctc} + \\lambda * L_{constraint}\n",
        "    \n",
        "where \\lambda is a weighted parameter to control balance between the two losses.\n",
        "   \n",
        "```\n",
        "\n",
        "\n",
        "You can also find it in a published paper here, section 3.4:\n",
        "https://arxiv.org/pdf/2105.10156\n",
        "\n",
        "### **Bonus 3**: Visualize model prediction by timesteps and probability of softmax outputs *(+0.5pt)*\n",
        "\n",
        "![alt text](assets/graph_with_prob.png)\n",
        "\n",
        "### **Bonus 4**: Use CUDA CTC Decoder to optimize decoding process in model *(+0.5pt)*\n",
        "\n",
        "Follow the instructions via this [link](https://pytorch.org/audio/main/tutorials/asr_inference_with_ctc_decoder_tutorial.html#cuda-ctc-decoder) to implement CUDA CTC decoder in your model."
      ],
      "metadata": {
        "id": "o9YVut4FGomR"
      }
    }
  ]
}